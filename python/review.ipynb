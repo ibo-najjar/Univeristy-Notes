{
 "cells": [
  {
   "cell_type": "code",
   "execution_count": null,
   "metadata": {},
   "outputs": [],
   "source": [
    "# SAVINGS ACCOUNT PROGRAM   \n",
    "def main():\n",
    "    acc = SavingsAccount()\n",
    "    name = input(\"enter name\")\n",
    "    acc.setName(name)\n",
    "    print(\"D = Deposit | W = Withdrawal | Q = Quit\")\n",
    "    request = input(\"Enter D, W, or Q: \").upper()\n",
    "    while True:\n",
    "        if request == 'D':\n",
    "            try:\n",
    "                amount = float(input(\"enter amount to deposit: \"))\n",
    "                acc.makeDeposit(amount)\n",
    "                print(\"Balance: {0:,.2f}\".format(acc.getBalance()))\n",
    "                request = input(\"Enter D, W, or Q: \").upper()\n",
    "            except ValueError as exp:\n",
    "                print(exp)\n",
    "        elif request == 'W':\n",
    "            try:\n",
    "                amount = float(input(\"enter amount to Withdraw: \"))\n",
    "                acc.makeWithdrawal(amount)\n",
    "                print(\"Balance: {0:,.2f}\".format(acc.getBalance()))\n",
    "                request = input(\"Enter D, W, or Q: \").upper()\n",
    "            except ValueError as exp:\n",
    "                print(exp)\n",
    "        elif request == 'Q':\n",
    "            print(f\"End of transaction. Have a good day {acc.getName()} .\")\n",
    "            break\n",
    "        else:\n",
    "            request = input(\"Enter D, W, or Q: \").upper()\n",
    "\n",
    "class SavingsAccount():\n",
    "    def __init__(self, name=\"\",balance=0.0):\n",
    "        self._name = name\n",
    "        self._balance = balance\n",
    "    def setName(self, name):\n",
    "        self._name = name\n",
    "    def getName(self):\n",
    "        return self._name\n",
    "    def setBalance(self,balance):\n",
    "        self._balance = balance\n",
    "    def getBalance(self):\n",
    "        return self._balance\n",
    "    def makeDeposit(self,amount):\n",
    "        self._balance += amount\n",
    "    def makeWithdrawal(self, amount):\n",
    "        if amount <= self._balance:\n",
    "            self._balance -= amount\n",
    "        else:\n",
    "            print(\"tranasaction denied\")\n",
    "main()"
   ]
  },
  {
   "cell_type": "code",
   "execution_count": 42,
   "metadata": {},
   "outputs": [
    {
     "name": "stdout",
     "output_type": "stream",
     "text": [
      "['1', '7', '21', '35', '35', '21', '7', '1']\n"
     ]
    }
   ],
   "source": [
    "def main():\n",
    "    n = int(input(\"enter nonnegative integer: \"))\n",
    "    line = [str(x) for x in pascal(n)]\n",
    "    print(line)\n",
    "def pascal(x):\n",
    "    if x == 0:\n",
    "        return [1]\n",
    "    else:\n",
    "        line = [1]\n",
    "        preLine = pascal(x - 1)\n",
    "        for i in range(len(preLine) - 1):\n",
    "            line.append(preLine[i] + preLine[i + 1])\n",
    "        line += [1]\n",
    "    return line\n",
    "main()"
   ]
  },
  {
   "cell_type": "code",
   "execution_count": null,
   "metadata": {},
   "outputs": [],
   "source": [
    "import pickle\n",
    "import random"
   ]
  },
  {
   "cell_type": "code",
   "execution_count": null,
   "metadata": {},
   "outputs": [],
   "source": [
    "def main():\n",
    "    isbn = input(\"enter a ten-character ISBN number: \")\n",
    "    isbn = stripDashes(isbn)\n",
    "def stripDashes(isbn):\n",
    "    noDahses = \"\"\n",
    "    for ch in isbn:\n",
    "        if ch != '-':\n",
    "            "
   ]
  }
 ],
 "metadata": {
  "interpreter": {
   "hash": "034a2ff1ce7a220551fa18f5e7125a21115135e98a83fcfdf6ff670c353a13c9"
  },
  "kernelspec": {
   "display_name": "Python 3.8.5 64-bit ('condaenv': conda)",
   "language": "python",
   "name": "python3"
  },
  "language_info": {
   "codemirror_mode": {
    "name": "ipython",
    "version": 3
   },
   "file_extension": ".py",
   "mimetype": "text/x-python",
   "name": "python",
   "nbconvert_exporter": "python",
   "pygments_lexer": "ipython3",
   "version": "3.8.5"
  },
  "orig_nbformat": 4
 },
 "nbformat": 4,
 "nbformat_minor": 2
}
