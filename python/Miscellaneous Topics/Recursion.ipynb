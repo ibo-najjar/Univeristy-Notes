{
 "cells": [
  {
   "cell_type": "code",
   "execution_count": 9,
   "metadata": {},
   "outputs": [
    {
     "name": "stdout",
     "output_type": "stream",
     "text": [
      "8\n",
      "2*2*2*2*2*2*2\n",
      "128\n"
     ]
    }
   ],
   "source": [
    "def power(r,n):\n",
    "    value = 1\n",
    "    for i in range(1, n + 1):\n",
    "        value = r * value\n",
    "    return value\n",
    "print(power(2,3))\n",
    "\n",
    "def recursionPower(r, n):\n",
    "    L = [r]\n",
    "    if n == 1:\n",
    "        return r\n",
    "    else:\n",
    "        print(f\"{r}*\"*(n-1),end=\"\")\n",
    "        print(r)\n",
    "        return r * power(r,n-1)\n",
    "print(recursionPower(2,7))\n"
   ]
  },
  {
   "cell_type": "code",
   "execution_count": 19,
   "metadata": {},
   "outputs": [
    {
     "name": "stdout",
     "output_type": "stream",
     "text": [
      "Palindrome\n"
     ]
    }
   ],
   "source": [
    "def isPalindrome(word):\n",
    "    word = word.lower()\n",
    "    if len(word) <= 1:\n",
    "        return True\n",
    "    elif word[0] == word[-1]: #first and last letters match\n",
    "        word = word[1:-1] # remove first and last letters\n",
    "        return isPalindrome(word)\n",
    "    else:\n",
    "        return False\n",
    "word = \"kayak\"\n",
    "d = \"Palindrome\" if isPalindrome(word) else \"not Palindrome\"\n",
    "print(d)"
   ]
  },
  {
   "cell_type": "code",
   "execution_count": null,
   "metadata": {},
   "outputs": [],
   "source": [
    "import turtle\n",
    "\n",
    "def main():\n",
    "    t = turtle.Turtle()\n",
    "    t.hideturtle()\n",
    "    t.speed(10)\n",
    "    level = 12\n",
    "    fract(t, -80, 60, 80, 60, level)\n",
    "\n",
    "def fract(t, x1,y1,x2,y2,level):\n",
    "    newX = 0\n",
    "    newY = 0\n",
    "    if level == 0:\n",
    "        drawLine(t, x1,y1,x2,y2)\n",
    "    else:\n",
    "        newX = (x1+x2) + (y2-y1)/2\n",
    "        newY = (y1+y2) + (x2-x1)/2\n",
    "        fract(t,x1,y1,newX,newY, level-1)\n",
    "        fract(t,newX,newY,x2,y2,level -1)\n",
    "def drawLine(t,x1,y1,x2,y2):\n",
    "    # draw line from (x1,y1) to (x2,y2)\n",
    "    t.up()\n",
    "    t.goto(x1,y1)\n",
    "    t.down()\n",
    "    t.goto(x2,y2)\n",
    "main()"
   ]
  }
 ],
 "metadata": {
  "interpreter": {
   "hash": "034a2ff1ce7a220551fa18f5e7125a21115135e98a83fcfdf6ff670c353a13c9"
  },
  "kernelspec": {
   "display_name": "Python 3.8.5 64-bit ('condaenv': conda)",
   "language": "python",
   "name": "python3"
  },
  "language_info": {
   "codemirror_mode": {
    "name": "ipython",
    "version": 3
   },
   "file_extension": ".py",
   "mimetype": "text/x-python",
   "name": "python",
   "nbconvert_exporter": "python",
   "pygments_lexer": "ipython3",
   "version": "3.8.5"
  },
  "orig_nbformat": 4
 },
 "nbformat": 4,
 "nbformat_minor": 2
}
