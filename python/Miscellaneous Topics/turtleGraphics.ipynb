{
 "cells": [
  {
   "cell_type": "code",
   "execution_count": 3,
   "metadata": {},
   "outputs": [],
   "source": [
    "import turtle"
   ]
  },
  {
   "cell_type": "code",
   "execution_count": 6,
   "metadata": {},
   "outputs": [],
   "source": [
    "def DrawRectangle(t,x,y,w,h,colorP=\"black\"):\n",
    "    t.pencolor(colorP)\n",
    "    t.up()\n",
    "    t.goto(x,y)\n",
    "    t.down()\n",
    "    t.goto(x+w,y)\n",
    "    t.goto(x+w,y+h)\n",
    "    t.goto(x,y+h)\n",
    "    t.goto(x,y)\n",
    "t = turtle.Turtle()\n",
    "DrawRectangle(t,0,0,100,100)"
   ]
  },
  {
   "cell_type": "code",
   "execution_count": 2,
   "metadata": {},
   "outputs": [],
   "source": [
    "def DrawRectangle(t,x,y,w,h,colorP=\"black\"):\n",
    "    t.clear()\n",
    "    t.pencolor(colorP)\n",
    "    t.up()\n",
    "    t.goto(x,y)\n",
    "    t.down()\n",
    "    for i in range(2):\n",
    "        t.forward(w)\n",
    "        t.left(90)\n",
    "        t.forward(h)\n",
    "t = turtle.Turtle()\n",
    "DrawRectangle(t,0,0,100,100)"
   ]
  },
  {
   "cell_type": "code",
   "execution_count": 6,
   "metadata": {},
   "outputs": [],
   "source": [
    "def main():\n",
    "    t = turtle.Turtle()\n",
    "    t.hideturtle()\n",
    "    DrawRectangle(t, 0, 0, 100, 150, \"blue\", \"grey\")\n",
    "def DrawRectangle(t,x,y,w,h,colorP=\"black\",colorF=\"white\"):\n",
    "    t.pencolor(colorP)\n",
    "    t.fillcolor(colorF)\n",
    "    t.up()\n",
    "    t.goto(x,y)\n",
    "    t.begin_fill()\n",
    "    t.down()\n",
    "    t.goto(x+w,y)\n",
    "    t.goto(x+w,y+h)\n",
    "    t.goto(x,y+h)\n",
    "    t.goto(x,y)\n",
    "    t.end_fill()\n",
    "main()\n"
   ]
  },
  {
   "cell_type": "code",
   "execution_count": null,
   "metadata": {},
   "outputs": [],
   "source": [
    "import turtle\n",
    "def main():\n",
    "    t = turtle.Turtle()\n",
    "    t.hideturtle()\n",
    "    "
   ]
  },
  {
   "cell_type": "code",
   "execution_count": null,
   "metadata": {},
   "outputs": [],
   "source": [
    "import turtle\n",
    "wn=turtle.Screen()\n",
    "wn.bgcolor(\"white\")\n",
    "from turtle import *\n",
    "prev=0\n",
    "start=1\n",
    "fibonacci=1\n",
    "sqs = input(\"How many Squares do you want?\")\n",
    "for i in range(int(sqs)):\n",
    "    print(str(i)+\". \"+str(fibonacci))\n",
    "    color('black')\n",
    "    for f in range(6):\n",
    "        forward(5*fibonacci)\n",
    "        if f<5:right(90)\n",
    "\n",
    "    fibonacci=start+prev\n",
    "    prev=start\n",
    "    start=fibonacci"
   ]
  }
 ],
 "metadata": {
  "interpreter": {
   "hash": "034a2ff1ce7a220551fa18f5e7125a21115135e98a83fcfdf6ff670c353a13c9"
  },
  "kernelspec": {
   "display_name": "Python 3.8.5 64-bit ('condaenv': conda)",
   "language": "python",
   "name": "python3"
  },
  "language_info": {
   "codemirror_mode": {
    "name": "ipython",
    "version": 3
   },
   "file_extension": ".py",
   "mimetype": "text/x-python",
   "name": "python",
   "nbconvert_exporter": "python",
   "pygments_lexer": "ipython3",
   "version": "3.8.5"
  },
  "orig_nbformat": 4
 },
 "nbformat": 4,
 "nbformat_minor": 2
}
