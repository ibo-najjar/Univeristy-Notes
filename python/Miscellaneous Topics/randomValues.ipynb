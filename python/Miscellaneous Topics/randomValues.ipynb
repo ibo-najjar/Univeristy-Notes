{
 "cells": [
  {
   "cell_type": "markdown",
   "metadata": {},
   "source": [
    "# Random Values"
   ]
  },
  {
   "cell_type": "markdown",
   "metadata": {},
   "source": [
    "* `random.choice(L)` random value from list L\n",
    "* `random.sample(L, n)` n random values from L\n",
    "* `random.shuffle(L)` random order to elemetns of L\n",
    "* `random.randint(m, n)` random int x where m <= x <= n\n"
   ]
  },
  {
   "cell_type": "code",
   "execution_count": 10,
   "metadata": {},
   "outputs": [
    {
     "name": "stdout",
     "output_type": "stream",
     "text": [
      "['earth', 'air', 'fire', 'water']\n",
      "water\n",
      "['air', 'earth']\n",
      "elements after shuffle: ['water', 'earth', 'air', 'fire']\n"
     ]
    }
   ],
   "source": [
    "import random\n",
    "\n",
    "L = [\"earth\", \"air\", \"fire\", \"water\"]\n",
    "print(L)\n",
    "print(random.choice(L))\n",
    "print(random.sample(L,2))\n",
    "print(\"elements after shuffle: \",end=\"\")\n",
    "random.shuffle(L)\n",
    "print(L)"
   ]
  },
  {
   "cell_type": "markdown",
   "metadata": {},
   "source": [
    "output: `['earth', 'air', 'fire', 'water']`\n",
    "`water`\n",
    "`['air', 'earth']`\n",
    "`elements after shuffle: ['water', 'earth', 'air', 'fire']`"
   ]
  },
  {
   "cell_type": "code",
   "execution_count": 19,
   "metadata": {},
   "outputs": [
    {
     "name": "stdout",
     "output_type": "stream",
     "text": [
      "ending bankroll: 4 dollars\n",
      "numbers of games played: 4\n"
     ]
    }
   ],
   "source": [
    "# american roulette wheels\n",
    "def main():\n",
    "    bankroll = int(input(\"enter the amount of the bankroll: \"))\n",
    "    (amount, timesPlayed) = playDoubleOrNothing(bankroll)\n",
    "    print(f\"ending bankroll: {amount} dollars\")\n",
    "    print(f\"numbers of games played: {timesPlayed}\")\n",
    "def isOdd(n):\n",
    "    d = True if (0 <= n <= 37) and (n%2) == 0 else False\n",
    "    return d\n",
    "def profit(n):\n",
    "    d = 1 if isOdd(n) else -1\n",
    "    return d\n",
    "def playDoubleOrNothing(bankroll):\n",
    "    amount = bankroll\n",
    "    timesPlayed = 0\n",
    "    while 0 < amount < 2 * bankroll: #stop when going broke or doubling\n",
    "        # let 37 represent 00\n",
    "        n = random.randint(0,37)\n",
    "        timesPlayed += 1\n",
    "        amount += profit(n)\n",
    "    return(amount, timesPlayed)\n",
    "main()\n"
   ]
  },
  {
   "cell_type": "code",
   "execution_count": 34,
   "metadata": {},
   "outputs": [
    {
     "name": "stdout",
     "output_type": "stream",
     "text": [
      "cherries-Bell-cherries"
     ]
    }
   ],
   "source": [
    "# fruit slot machine\n",
    "def main():\n",
    "    for i in range(3):\n",
    "        outcome = spinWheel()\n",
    "        if i == 2:\n",
    "            print(outcome, end=\"\")\n",
    "        else:\n",
    "            print(outcome, end=\"-\")\n",
    "def spinWheel():\n",
    "    n = random.randint(1,20)\n",
    "    if n > 15:\n",
    "        return \"cherries\"\n",
    "    elif n > 10:\n",
    "        return \"orange\"\n",
    "    elif n > 5:\n",
    "        return \"plum\"\n",
    "    elif n > 2:\n",
    "        return \"Melon\"\n",
    "    elif n > 1:\n",
    "        return \"Bell\"\n",
    "    else:\n",
    "        return \"Bar\"\n",
    "main()\n"
   ]
  }
 ],
 "metadata": {
  "interpreter": {
   "hash": "034a2ff1ce7a220551fa18f5e7125a21115135e98a83fcfdf6ff670c353a13c9"
  },
  "kernelspec": {
   "display_name": "Python 3.8.5 64-bit ('condaenv': conda)",
   "language": "python",
   "name": "python3"
  },
  "language_info": {
   "codemirror_mode": {
    "name": "ipython",
    "version": 3
   },
   "file_extension": ".py",
   "mimetype": "text/x-python",
   "name": "python",
   "nbconvert_exporter": "python",
   "pygments_lexer": "ipython3",
   "version": "3.8.5"
  },
  "orig_nbformat": 4
 },
 "nbformat": 4,
 "nbformat_minor": 2
}
