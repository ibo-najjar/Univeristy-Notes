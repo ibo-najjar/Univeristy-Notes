{
 "cells": [
  {
   "cell_type": "markdown",
   "metadata": {},
   "source": [
    "csv files are data seperated by commas\n",
    "such as \n",
    "```\n",
    "1,George Washington,1789,1797,\n",
    "2,John Adams,1797,1801,\n",
    "3,Thomas Jefferson,1801,1809,\n",
    "```"
   ]
  }
 ],
 "metadata": {
  "interpreter": {
   "hash": "034a2ff1ce7a220551fa18f5e7125a21115135e98a83fcfdf6ff670c353a13c9"
  },
  "kernelspec": {
   "display_name": "Python 3.8.5 64-bit ('condaenv': conda)",
   "language": "python",
   "name": "python3"
  },
  "language_info": {
   "codemirror_mode": {
    "name": "ipython",
    "version": 3
   },
   "file_extension": ".py",
   "mimetype": "text/x-python",
   "name": "python",
   "nbconvert_exporter": "python",
   "pygments_lexer": "ipython3",
   "version": "3.8.5"
  },
  "orig_nbformat": 4
 },
 "nbformat": 4,
 "nbformat_minor": 2
}
