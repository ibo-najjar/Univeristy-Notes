{
 "cells": [
  {
   "cell_type": "markdown",
   "metadata": {},
   "source": [
    "# Reading txt files"
   ]
  },
  {
   "cell_type": "code",
   "execution_count": 1,
   "metadata": {},
   "outputs": [
    {
     "name": "stdout",
     "output_type": "stream",
     "text": [
      "['George Washington', 'John Adams', 'Thomas Jefferson']\n"
     ]
    }
   ],
   "source": [
    "f = open(\"assets/presidents.txt\", 'r') # open file\n",
    "listVar = [line.rstrip() for line in f]\n",
    "f.close()\n",
    "print(listVar)"
   ]
  },
  {
   "cell_type": "code",
   "execution_count": 6,
   "metadata": {},
   "outputs": [
    {
     "name": "stdout",
     "output_type": "stream",
     "text": [
      "George Washington\n",
      "John Adams\n",
      "Thomas Jefferson"
     ]
    }
   ],
   "source": [
    "def DisplayWithReadline(file):\n",
    "    f = open(file,'r')\n",
    "    line = f.readline()\n",
    "    while line != \"\":\n",
    "        print(line, end=\"\")\n",
    "        line = f.readline()\n",
    "    f.close()\n",
    "DisplayWithReadline(\"assets/presidents.txt\")"
   ]
  },
  {
   "cell_type": "markdown",
   "metadata": {},
   "source": [
    "## create files"
   ]
  },
  {
   "cell_type": "code",
   "execution_count": 8,
   "metadata": {},
   "outputs": [],
   "source": [
    "# create a file if filename doesnt already exist\n",
    "outfile = open(\"assets/createdFile.txt\",'w')\n",
    "outfile.write(\"hey\")\n",
    "outfile.close()"
   ]
  },
  {
   "cell_type": "code",
   "execution_count": 10,
   "metadata": {},
   "outputs": [],
   "source": [
    "def main():\n",
    "    outfile = open(\"assets/FirstPresidents.txt\",'w')\n",
    "    writeData(outfile)\n",
    "def writeData(outfile):\n",
    "    L = ['George Washington', 'John Adams', 'Thomas Jefferson']\n",
    "    for i in range(len(L)):\n",
    "        L[i] = L[i] + \"\\n\"\n",
    "    outfile.writelines(L)\n",
    "    outfile.close()\n",
    "main()"
   ]
  },
  {
   "cell_type": "code",
   "execution_count": 13,
   "metadata": {},
   "outputs": [],
   "source": [
    "def main():\n",
    "    statesList = createListFromFile(\"assets/states.txt\")\n",
    "    createSortedFile(statesList, \"assets/states.txt\")\n",
    "\n",
    "def createListFromFile(fileName):\n",
    "    f = open(fileName, \"r\")\n",
    "    L = [line.rstrip() for line in f]\n",
    "    f.close()\n",
    "    return L\n",
    "def createSortedFile(L, fileName):\n",
    "    L.sort()\n",
    "    for i in range(len(L)):\n",
    "        L[i] += \"\\n\"\n",
    "    f = open(fileName, 'w')\n",
    "    f.writelines(L)\n",
    "    f.close()\n",
    "\n",
    "main()"
   ]
  },
  {
   "cell_type": "markdown",
   "metadata": {},
   "source": [
    "`f = open(\"FileName\", 'a')` f = open(\"FileName\", 'a') oppened for append"
   ]
  }
 ],
 "metadata": {
  "interpreter": {
   "hash": "034a2ff1ce7a220551fa18f5e7125a21115135e98a83fcfdf6ff670c353a13c9"
  },
  "kernelspec": {
   "display_name": "Python 3.8.5 64-bit ('condaenv': conda)",
   "language": "python",
   "name": "python3"
  },
  "language_info": {
   "codemirror_mode": {
    "name": "ipython",
    "version": 3
   },
   "file_extension": ".py",
   "mimetype": "text/x-python",
   "name": "python",
   "nbconvert_exporter": "python",
   "pygments_lexer": "ipython3",
   "version": "3.8.5"
  },
  "orig_nbformat": 4
 },
 "nbformat": 4,
 "nbformat_minor": 2
}
