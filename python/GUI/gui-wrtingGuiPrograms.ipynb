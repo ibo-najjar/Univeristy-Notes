{
 "cells": [
  {
   "cell_type": "code",
   "execution_count": 5,
   "metadata": {},
   "outputs": [],
   "source": [
    "from tkinter import *\n",
    "\n",
    "def findLargest():\n",
    "    L = [eval(conOFentNum1.get()),eval(conOFentNum3.get()),eval(conOFentNum3.get())]\n",
    "    conOFentLargest.set(max(L))\n",
    "\n",
    "window = Tk()\n",
    "window.title(\"Largest Number\")\n",
    "Label(window, text=\"First number: \").grid(row=0,column=0,pady=5,sticky=E)\n",
    "conOFentNum1 = StringVar()\n",
    "ententNum1 = Entry(window,textvariable=conOFentNum1, width=8)\n",
    "ententNum1.grid(row=0,column=1,sticky=W)\n",
    "Label(window, text=\"Second number: \").grid(row=1,column=0,pady=5,sticky=E)\n",
    "conOFentNum2 = StringVar()\n",
    "ententNum2 = Entry(window,textvariable=conOFentNum2, width=8)\n",
    "ententNum2.grid(row=1,column=1,sticky=W)\n",
    "Label(window, text=\"Third number: \").grid(row=2,column=0,pady=5,sticky=E)\n",
    "conOFentNum3 = StringVar()\n",
    "ententNum3 = Entry(window,textvariable=conOFentNum3, width=8)\n",
    "ententNum3.grid(row=2,column=1,sticky=W)\n",
    "btnFind = Button(window, text=\"Find Largest\", command=findLargest)\n",
    "btnFind.grid(row=3,column=0,columnspan=2,padx=75)\n",
    "Label(window, text=\"Largest number: \").grid(row=4,column=0,sticky=E)\n",
    "conOFentLargest = StringVar()\n",
    "entLargest = Entry(window, textvariable=conOFentLargest,state=\"readonly\", width=8)\n",
    "entLargest.grid(row=4,column=1,sticky=W)\n",
    "window.mainloop()\n"
   ]
  }
 ],
 "metadata": {
  "interpreter": {
   "hash": "034a2ff1ce7a220551fa18f5e7125a21115135e98a83fcfdf6ff670c353a13c9"
  },
  "kernelspec": {
   "display_name": "Python 3.8.5 64-bit ('condaenv': conda)",
   "language": "python",
   "name": "python3"
  },
  "language_info": {
   "codemirror_mode": {
    "name": "ipython",
    "version": 3
   },
   "file_extension": ".py",
   "mimetype": "text/x-python",
   "name": "python",
   "nbconvert_exporter": "python",
   "pygments_lexer": "ipython3",
   "version": "3.8.5"
  },
  "orig_nbformat": 4
 },
 "nbformat": 4,
 "nbformat_minor": 2
}
