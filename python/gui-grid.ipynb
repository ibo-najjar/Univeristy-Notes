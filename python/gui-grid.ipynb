{
 "cells": [
  {
   "cell_type": "code",
   "execution_count": 2,
   "metadata": {},
   "outputs": [],
   "source": [
    "from tkinter import *"
   ]
  },
  {
   "cell_type": "code",
   "execution_count": 4,
   "metadata": {},
   "outputs": [],
   "source": [
    "window = Tk()\n",
    "entNumOfYears = Entry(window,width=2)\n",
    "entNumOfYears.grid(row=2, column=1,padx=5,pady=5,sticky=W) # stciky = W moves to left\n",
    "\n",
    "btnCalculate = Button(window, text=\"Claculate Monthly Payment\")\n",
    "btnCalculate.grid(row=3,column=0,columnspan=2,pady=5)\n",
    "window.mainloop()"
   ]
  },
  {
   "cell_type": "markdown",
   "metadata": {},
   "source": [
    "```\n",
    "padx=r r pixels to left and right\n",
    "pady=r r pixels to up and bottom\n",
    "padx=(r,s) r pixel to the right and s to the left\n",
    "pady=(r,s) r pixel to the top and s to the bottom\n",
    "```"
   ]
  },
  {
   "cell_type": "markdown",
   "metadata": {},
   "source": [
    "```\n",
    "Sticky = N | S | W | E\n",
    "NORTH(top), SOUTH(bottom), WEST(left), EAST(right)\n",
    "Stciky = NS stretch from north to south\n",
    "sticky = NSEW fill block\n",
    "```"
   ]
  },
  {
   "cell_type": "code",
   "execution_count": 11,
   "metadata": {},
   "outputs": [],
   "source": [
    "window = Tk()\n",
    "window.title(\"attach scrollbar to list\")\n",
    "yscroll = Scrollbar(window, orient=VERTICAL)\n",
    "yscroll.grid(row=0, column=2, rowspan=4, padx=(0,100), pady=5)\n",
    "nums = range(0,20)\n",
    "conOFlst = IntVar()\n",
    "lstNums = Listbox(window, width=5, height=4, listvariable=conOFlst, yscrollcommand=yscroll.set)\n",
    "lstNums.grid(row=0,column=1,rowspan=4,padx=(100,0),pady=5,sticky=SW)\n",
    "conOFlst.set(tuple(nums))\n",
    "yscroll[\"command\"] = lstNums.yview\n",
    "window.mainloop()"
   ]
  }
 ],
 "metadata": {
  "interpreter": {
   "hash": "034a2ff1ce7a220551fa18f5e7125a21115135e98a83fcfdf6ff670c353a13c9"
  },
  "kernelspec": {
   "display_name": "Python 3.8.5 64-bit ('condaenv': conda)",
   "language": "python",
   "name": "python3"
  },
  "language_info": {
   "codemirror_mode": {
    "name": "ipython",
    "version": 3
   },
   "file_extension": ".py",
   "mimetype": "text/x-python",
   "name": "python",
   "nbconvert_exporter": "python",
   "pygments_lexer": "ipython3",
   "version": "3.8.5"
  },
  "orig_nbformat": 4
 },
 "nbformat": 4,
 "nbformat_minor": 2
}
